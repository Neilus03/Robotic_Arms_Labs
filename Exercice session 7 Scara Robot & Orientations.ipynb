{
 "cells": [
  {
   "cell_type": "markdown",
   "metadata": {},
   "source": [
    "<h3>SESSION 7 - 4-axis Scara Robot (Rotary Suction Cup Manipulator)</h3>\n",
    "Suction cup-type manipulator control, pick & Place of the Scara Robot with orientation control, Inverse Kinematics"
   ]
  },
  {
   "cell_type": "markdown",
   "metadata": {},
   "source": [
    "The image in the figure represents a 4-Axis SCARA robot and its D-H table (session 9).<br>\n",
    "<img src=\"Scara4dofs.jpg\" width=\"500\"><br>\n",
    "From the parameters indicated in the image, we calculate the coordinate transformation matrices for each joint."
   ]
  },
  {
   "cell_type": "code",
   "execution_count": 719,
   "metadata": {},
   "outputs": [
    {
     "data": {
      "text/latex": [
       "$\\displaystyle \\left( \\theta_{1}, \\  \\theta_{2}, \\  \\theta_{3}, \\  \\theta_{4}, \\  lc, \\  la, \\  lb, \\  l_{4}, \\  d_{3}, \\  \\theta, \\  \\alpha, \\  a, \\  d\\right)$"
      ],
      "text/plain": [
       "(theta1, theta2, theta3, theta4, lc, la, lb, l4, d3, theta, alpha, a, d)"
      ]
     },
     "execution_count": 719,
     "metadata": {},
     "output_type": "execute_result"
    }
   ],
   "source": [
    "import numpy as np\n",
    "import sympy as sp\n",
    "from sympy import *\n",
    "from sympy.physics.vector import init_vprinting\n",
    "init_vprinting(use_latex='mathjax', pretty_print=False)\n",
    "\n",
    "# declaramos los símbolos (longitudes, variables, etc.) que se utilizarán para una formulación posterior.\n",
    "\n",
    "\n",
    "from sympy.physics.mechanics import dynamicsymbols\n",
    "theta1, theta2, theta3, theta4, lc, la, lb, l4, d3, theta, alpha, a, d = dynamicsymbols('theta1 theta2 theta3 theta4 lc la lb l4 d3 theta alpha a d')\n",
    "theta1, theta2, theta3, theta4, lc, la, lb, l4, d3, theta, alpha, a, d "
   ]
  },
  {
   "cell_type": "code",
   "execution_count": 720,
   "metadata": {},
   "outputs": [
    {
     "data": {
      "text/latex": [
       "$\\displaystyle \\left[\\begin{matrix}\\cos{\\left(\\theta \\right)} & - \\sin{\\left(\\theta \\right)} \\cos{\\left(\\alpha \\right)} & \\sin{\\left(\\alpha \\right)} \\sin{\\left(\\theta \\right)} & a \\cos{\\left(\\theta \\right)}\\\\\\sin{\\left(\\theta \\right)} & \\cos{\\left(\\alpha \\right)} \\cos{\\left(\\theta \\right)} & - \\sin{\\left(\\alpha \\right)} \\cos{\\left(\\theta \\right)} & a \\sin{\\left(\\theta \\right)}\\\\0 & \\sin{\\left(\\alpha \\right)} & \\cos{\\left(\\alpha \\right)} & d\\\\0 & 0 & 0 & 1\\end{matrix}\\right]$"
      ],
      "text/plain": [
       "Matrix([\n",
       "[cos(theta), -sin(theta)*cos(alpha),  sin(alpha)*sin(theta), a*cos(theta)],\n",
       "[sin(theta),  cos(alpha)*cos(theta), -sin(alpha)*cos(theta), a*sin(theta)],\n",
       "[         0,             sin(alpha),             cos(alpha),            d],\n",
       "[         0,                      0,                      0,            1]])"
      ]
     },
     "execution_count": 720,
     "metadata": {},
     "output_type": "execute_result"
    }
   ],
   "source": [
    "# The standard homogeneous transformation matrix is represented as:\n",
    "\n",
    "rot = sp.Matrix([[sp.cos(theta), -sp.sin(theta)*sp.cos(alpha), sp.sin(theta)*sp.sin(alpha)],\n",
    "                 [sp.sin(theta), sp.cos(theta)*sp.cos(alpha), -sp.cos(theta)*sp.sin(alpha)],\n",
    "                 [0, sp.sin(alpha), sp.cos(alpha)]])\n",
    "\n",
    "trans = sp.Matrix([a*sp.cos(theta),a*sp.sin(theta),d])\n",
    "\n",
    "last_row = sp.Matrix([[0, 0, 0, 1]])\n",
    "\n",
    "m = sp.Matrix.vstack(sp.Matrix.hstack(rot, trans), last_row)\n",
    "m"
   ]
  },
  {
   "cell_type": "code",
   "execution_count": 721,
   "metadata": {},
   "outputs": [
    {
     "data": {
      "text/latex": [
       "$\\displaystyle \\left[\\begin{matrix}\\cos{\\left(\\theta_{1} \\right)} & - \\sin{\\left(\\theta_{1} \\right)} & 0 & la \\cos{\\left(\\theta_{1} \\right)}\\\\\\sin{\\left(\\theta_{1} \\right)} & \\cos{\\left(\\theta_{1} \\right)} & 0 & la \\sin{\\left(\\theta_{1} \\right)}\\\\0 & 0 & 1.0 & lc\\\\0 & 0 & 0 & 1.0\\end{matrix}\\right]$"
      ],
      "text/plain": [
       "Matrix([\n",
       "[cos(theta1), -sin(theta1),   0, la*cos(theta1)],\n",
       "[sin(theta1),  cos(theta1),   0, la*sin(theta1)],\n",
       "[          0,            0, 1.0,             lc],\n",
       "[          0,            0,   0,            1.0]])"
      ]
     },
     "execution_count": 721,
     "metadata": {},
     "output_type": "execute_result"
    }
   ],
   "source": [
    "# Transformation: 1st axis from '0' to '1'\n",
    "\n",
    "m01 = m.subs({ theta:theta1, d:lc, a:la , alpha:0})\n",
    "N(m01,2)"
   ]
  },
  {
   "cell_type": "code",
   "execution_count": 722,
   "metadata": {},
   "outputs": [
    {
     "data": {
      "text/latex": [
       "$\\displaystyle \\left[\\begin{matrix}\\cos{\\left(\\theta_{2} \\right)} & 1.0 \\sin{\\left(\\theta_{2} \\right)} & 1.22464679914735 \\cdot 10^{-16} \\sin{\\left(\\theta_{2} \\right)} & lb \\cos{\\left(\\theta_{2} \\right)}\\\\\\sin{\\left(\\theta_{2} \\right)} & - 1.0 \\cos{\\left(\\theta_{2} \\right)} & - 1.22464679914735 \\cdot 10^{-16} \\cos{\\left(\\theta_{2} \\right)} & lb \\sin{\\left(\\theta_{2} \\right)}\\\\0 & 1.22464679914735 \\cdot 10^{-16} & -1.0 & 0\\\\0 & 0 & 0 & 1\\end{matrix}\\right]$"
      ],
      "text/plain": [
       "Matrix([\n",
       "[cos(theta2),      1.0*sin(theta2),  1.22464679914735e-16*sin(theta2), lb*cos(theta2)],\n",
       "[sin(theta2),     -1.0*cos(theta2), -1.22464679914735e-16*cos(theta2), lb*sin(theta2)],\n",
       "[          0, 1.22464679914735e-16,                              -1.0,              0],\n",
       "[          0,                    0,                                 0,              1]])"
      ]
     },
     "execution_count": 722,
     "metadata": {},
     "output_type": "execute_result"
    }
   ],
   "source": [
    "# Transformation: 2nd axis from '1' to '2'\n",
    "m12 = m.subs({ theta:theta2, d:0, a:lb ,alpha:180*np.pi/180})\n",
    "m12"
   ]
  },
  {
   "cell_type": "code",
   "execution_count": 723,
   "metadata": {},
   "outputs": [
    {
     "data": {
      "text/latex": [
       "$\\displaystyle \\left[\\begin{matrix}\\cos{\\left(\\theta_{2} \\right)} & 1.0 \\sin{\\left(\\theta_{2} \\right)} & 0 & lb \\cos{\\left(\\theta_{2} \\right)}\\\\\\sin{\\left(\\theta_{2} \\right)} & - 1.0 \\cos{\\left(\\theta_{2} \\right)} & 0 & lb \\sin{\\left(\\theta_{2} \\right)}\\\\0 & 0 & -1.0 & 0\\\\0 & 0 & 0 & 1\\end{matrix}\\right]$"
      ],
      "text/plain": [
       "Matrix([\n",
       "[cos(theta2),  1.0*sin(theta2),    0, lb*cos(theta2)],\n",
       "[sin(theta2), -1.0*cos(theta2),    0, lb*sin(theta2)],\n",
       "[          0,                0, -1.0,              0],\n",
       "[          0,                0,    0,              1]])"
      ]
     },
     "execution_count": 723,
     "metadata": {},
     "output_type": "execute_result"
    }
   ],
   "source": [
    "# round to 0\n",
    "m12[0,2]=0\n",
    "m12[1,2]=0\n",
    "m12[2,1]=0 #problem when rounding to 0 http://research.iac.es/sieinvens/python-course/source/sympy.html\n",
    "m12"
   ]
  },
  {
   "cell_type": "code",
   "execution_count": 724,
   "metadata": {},
   "outputs": [
    {
     "data": {
      "text/latex": [
       "$\\displaystyle \\left[\\begin{matrix}1 & 0 & 0 & 0\\\\0 & 1 & 0 & 0\\\\0 & 0 & 1 & d_{3}\\\\0 & 0 & 0 & 1\\end{matrix}\\right]$"
      ],
      "text/plain": [
       "Matrix([\n",
       "[1, 0, 0,  0],\n",
       "[0, 1, 0,  0],\n",
       "[0, 0, 1, d3],\n",
       "[0, 0, 0,  1]])"
      ]
     },
     "execution_count": 724,
     "metadata": {},
     "output_type": "execute_result"
    }
   ],
   "source": [
    "# Transformation: 3rd axis from '2' to '3'\n",
    "m23 = m.subs({ theta:0, d:d3, a:0 ,alpha:0*np.pi/180})\n",
    "m23"
   ]
  },
  {
   "cell_type": "code",
   "execution_count": 725,
   "metadata": {},
   "outputs": [
    {
     "data": {
      "text/latex": [
       "$\\displaystyle \\left[\\begin{matrix}\\cos{\\left(\\theta_{4} \\right)} & 1.0 \\sin{\\left(\\theta_{4} \\right)} & 1.22464679914735 \\cdot 10^{-16} \\sin{\\left(\\theta_{4} \\right)} & 0\\\\\\sin{\\left(\\theta_{4} \\right)} & - 1.0 \\cos{\\left(\\theta_{4} \\right)} & - 1.22464679914735 \\cdot 10^{-16} \\cos{\\left(\\theta_{4} \\right)} & 0\\\\0 & 1.22464679914735 \\cdot 10^{-16} & -1.0 & l_{4}\\\\0 & 0 & 0 & 1\\end{matrix}\\right]$"
      ],
      "text/plain": [
       "Matrix([\n",
       "[cos(theta4),      1.0*sin(theta4),  1.22464679914735e-16*sin(theta4),  0],\n",
       "[sin(theta4),     -1.0*cos(theta4), -1.22464679914735e-16*cos(theta4),  0],\n",
       "[          0, 1.22464679914735e-16,                              -1.0, l4],\n",
       "[          0,                    0,                                 0,  1]])"
      ]
     },
     "execution_count": 725,
     "metadata": {},
     "output_type": "execute_result"
    }
   ],
   "source": [
    "# Transformation: 4th axis from '3' to '4'\n",
    "m34 = m.subs({ theta:theta4, d:l4, a:0 ,alpha:180*np.pi/180})\n",
    "m34"
   ]
  },
  {
   "cell_type": "code",
   "execution_count": 726,
   "metadata": {},
   "outputs": [
    {
     "data": {
      "text/latex": [
       "$\\displaystyle \\left[\\begin{matrix}\\cos{\\left(\\theta_{4} \\right)} & 1.0 \\sin{\\left(\\theta_{4} \\right)} & 0 & 0\\\\\\sin{\\left(\\theta_{4} \\right)} & - 1.0 \\cos{\\left(\\theta_{4} \\right)} & 0 & 0\\\\0 & 0 & -1.0 & l_{4}\\\\0 & 0 & 0 & 1\\end{matrix}\\right]$"
      ],
      "text/plain": [
       "Matrix([\n",
       "[cos(theta4),  1.0*sin(theta4),    0,  0],\n",
       "[sin(theta4), -1.0*cos(theta4),    0,  0],\n",
       "[          0,                0, -1.0, l4],\n",
       "[          0,                0,    0,  1]])"
      ]
     },
     "execution_count": 726,
     "metadata": {},
     "output_type": "execute_result"
    }
   ],
   "source": [
    "# round to 0\n",
    "m34[0,2]=0\n",
    "m34[1,2]=0\n",
    "m34[2,1]=0 #problem when rounding to 0 http://research.iac.es/sieinvens/python-course/source/sympy.html\n",
    "m34"
   ]
  },
  {
   "cell_type": "code",
   "execution_count": 727,
   "metadata": {},
   "outputs": [
    {
     "data": {
      "text/latex": [
       "$\\displaystyle \\left[\\begin{matrix}\\left(- \\sin{\\left(\\theta_{1} \\right)} \\sin{\\left(\\theta_{2} \\right)} + \\cos{\\left(\\theta_{1} \\right)} \\cos{\\left(\\theta_{2} \\right)}\\right) \\cos{\\left(\\theta_{4} \\right)} + \\left(1.0 \\sin{\\left(\\theta_{1} \\right)} \\cos{\\left(\\theta_{2} \\right)} + 1.0 \\sin{\\left(\\theta_{2} \\right)} \\cos{\\left(\\theta_{1} \\right)}\\right) \\sin{\\left(\\theta_{4} \\right)} & 1.0 \\left(- \\sin{\\left(\\theta_{1} \\right)} \\sin{\\left(\\theta_{2} \\right)} + \\cos{\\left(\\theta_{1} \\right)} \\cos{\\left(\\theta_{2} \\right)}\\right) \\sin{\\left(\\theta_{4} \\right)} - 1.0 \\cdot \\left(1.0 \\sin{\\left(\\theta_{1} \\right)} \\cos{\\left(\\theta_{2} \\right)} + 1.0 \\sin{\\left(\\theta_{2} \\right)} \\cos{\\left(\\theta_{1} \\right)}\\right) \\cos{\\left(\\theta_{4} \\right)} & 0 & la \\cos{\\left(\\theta_{1} \\right)} - lb \\sin{\\left(\\theta_{1} \\right)} \\sin{\\left(\\theta_{2} \\right)} + lb \\cos{\\left(\\theta_{1} \\right)} \\cos{\\left(\\theta_{2} \\right)}\\\\\\left(1.0 \\sin{\\left(\\theta_{1} \\right)} \\sin{\\left(\\theta_{2} \\right)} - 1.0 \\cos{\\left(\\theta_{1} \\right)} \\cos{\\left(\\theta_{2} \\right)}\\right) \\sin{\\left(\\theta_{4} \\right)} + \\left(\\sin{\\left(\\theta_{1} \\right)} \\cos{\\left(\\theta_{2} \\right)} + \\sin{\\left(\\theta_{2} \\right)} \\cos{\\left(\\theta_{1} \\right)}\\right) \\cos{\\left(\\theta_{4} \\right)} & - 1.0 \\cdot \\left(1.0 \\sin{\\left(\\theta_{1} \\right)} \\sin{\\left(\\theta_{2} \\right)} - 1.0 \\cos{\\left(\\theta_{1} \\right)} \\cos{\\left(\\theta_{2} \\right)}\\right) \\cos{\\left(\\theta_{4} \\right)} + 1.0 \\left(\\sin{\\left(\\theta_{1} \\right)} \\cos{\\left(\\theta_{2} \\right)} + \\sin{\\left(\\theta_{2} \\right)} \\cos{\\left(\\theta_{1} \\right)}\\right) \\sin{\\left(\\theta_{4} \\right)} & 0 & la \\sin{\\left(\\theta_{1} \\right)} + lb \\sin{\\left(\\theta_{1} \\right)} \\cos{\\left(\\theta_{2} \\right)} + lb \\sin{\\left(\\theta_{2} \\right)} \\cos{\\left(\\theta_{1} \\right)}\\\\0 & 0 & 1.0 & - 1.0 d_{3} - 1.0 l_{4} + lc\\\\0 & 0 & 0 & 1\\end{matrix}\\right]$"
      ],
      "text/plain": [
       "Matrix([\n",
       "[(-sin(theta1)*sin(theta2) + cos(theta1)*cos(theta2))*cos(theta4) + (1.0*sin(theta1)*cos(theta2) + 1.0*sin(theta2)*cos(theta1))*sin(theta4), 1.0*(-sin(theta1)*sin(theta2) + cos(theta1)*cos(theta2))*sin(theta4) - 1.0*(1.0*sin(theta1)*cos(theta2) + 1.0*sin(theta2)*cos(theta1))*cos(theta4),   0, la*cos(theta1) - lb*sin(theta1)*sin(theta2) + lb*cos(theta1)*cos(theta2)],\n",
       "[ (1.0*sin(theta1)*sin(theta2) - 1.0*cos(theta1)*cos(theta2))*sin(theta4) + (sin(theta1)*cos(theta2) + sin(theta2)*cos(theta1))*cos(theta4), -1.0*(1.0*sin(theta1)*sin(theta2) - 1.0*cos(theta1)*cos(theta2))*cos(theta4) + 1.0*(sin(theta1)*cos(theta2) + sin(theta2)*cos(theta1))*sin(theta4),   0, la*sin(theta1) + lb*sin(theta1)*cos(theta2) + lb*sin(theta2)*cos(theta1)],\n",
       "[                                                                                                                                         0,                                                                                                                                                  0, 1.0,                                                    -1.0*d3 - 1.0*l4 + lc],\n",
       "[                                                                                                                                         0,                                                                                                                                                  0,   0,                                                                        1]])"
      ]
     },
     "execution_count": 727,
     "metadata": {},
     "output_type": "execute_result"
    }
   ],
   "source": [
    "# Unsimplified 4-axis Resulting Matrix\n",
    "m04 = (m01*m12*m23*m34)\n",
    "m04"
   ]
  },
  {
   "cell_type": "code",
   "execution_count": 728,
   "metadata": {},
   "outputs": [
    {
     "data": {
      "text/latex": [
       "$\\displaystyle \\left[\\begin{matrix}1.0 \\cos{\\left(\\theta_{1} + \\theta_{2} - \\theta_{4} \\right)} & - 1.0 \\sin{\\left(\\theta_{1} + \\theta_{2} - \\theta_{4} \\right)} & 0 & la \\cos{\\left(\\theta_{1} \\right)} + lb \\cos{\\left(\\theta_{1} + \\theta_{2} \\right)}\\\\1.0 \\sin{\\left(\\theta_{1} + \\theta_{2} - \\theta_{4} \\right)} & 1.0 \\cos{\\left(\\theta_{1} + \\theta_{2} - \\theta_{4} \\right)} & 0 & la \\sin{\\left(\\theta_{1} \\right)} + lb \\sin{\\left(\\theta_{1} + \\theta_{2} \\right)}\\\\0 & 0 & 1.0 & - 1.0 d_{3} - 1.0 l_{4} + 1.0 lc\\\\0 & 0 & 0 & 1\\end{matrix}\\right]$"
      ],
      "text/plain": [
       "Matrix([\n",
       "[1.0*cos(theta1 + theta2 - theta4), -1.0*sin(theta1 + theta2 - theta4),   0, la*cos(theta1) + lb*cos(theta1 + theta2)],\n",
       "[1.0*sin(theta1 + theta2 - theta4),  1.0*cos(theta1 + theta2 - theta4),   0, la*sin(theta1) + lb*sin(theta1 + theta2)],\n",
       "[                                0,                                  0, 1.0,                -1.0*d3 - 1.0*l4 + 1.0*lc],\n",
       "[                                0,                                  0,   0,                                        1]])"
      ]
     },
     "execution_count": 728,
     "metadata": {},
     "output_type": "execute_result"
    }
   ],
   "source": [
    "# Resulting Matrix we can simplify it further:\n",
    "mbee= sp.Matrix([[sp.trigsimp(m04[0,0].simplify()), sp.trigsimp(m04[0,1].simplify()), (m04[0,2].simplify()),sp.trigsimp(m04[0,3].simplify())],\n",
    "                 [sp.trigsimp(m04[1,0].simplify()), sp.trigsimp(m04[1,1].simplify()), (m04[1,2].simplify()),sp.trigsimp(m04[1,3].simplify())],\n",
    "                 [sp.trigsimp(m04[2,0].simplify()), m04[2,1].simplify(), sp.trigsimp(m04[2,2].simplify()),sp.trigsimp(m04[2,3].simplify())],\n",
    "                 [m04[3,0].simplify(), m04[3,1].simplify(), m04[3,2].simplify(),m04[3,3].simplify()]])\n",
    "\n",
    "mbee"
   ]
  },
  {
   "cell_type": "code",
   "execution_count": 729,
   "metadata": {},
   "outputs": [
    {
     "data": {
      "text/latex": [
       "$\\displaystyle \\left[\\begin{matrix}1.0 \\cos{\\left(\\theta_{1} + \\theta_{2} - \\theta_{4} \\right)} & - 1.0 \\sin{\\left(\\theta_{1} + \\theta_{2} - \\theta_{4} \\right)} & 0 & 0.2 \\cos{\\left(\\theta_{1} + \\theta_{2} \\right)} + 0.2 \\cos{\\left(\\theta_{1} \\right)}\\\\1.0 \\sin{\\left(\\theta_{1} + \\theta_{2} - \\theta_{4} \\right)} & 1.0 \\cos{\\left(\\theta_{1} + \\theta_{2} - \\theta_{4} \\right)} & 0 & 0.2 \\sin{\\left(\\theta_{1} + \\theta_{2} \\right)} + 0.2 \\sin{\\left(\\theta_{1} \\right)}\\\\0 & 0 & 1.0 & 0.1019 - 1.0 d_{3}\\\\0 & 0 & 0 & 1\\end{matrix}\\right]$"
      ],
      "text/plain": [
       "Matrix([\n",
       "[1.0*cos(theta1 + theta2 - theta4), -1.0*sin(theta1 + theta2 - theta4),   0, 0.2*cos(theta1 + theta2) + 0.2*cos(theta1)],\n",
       "[1.0*sin(theta1 + theta2 - theta4),  1.0*cos(theta1 + theta2 - theta4),   0, 0.2*sin(theta1 + theta2) + 0.2*sin(theta1)],\n",
       "[                                0,                                  0, 1.0,                            0.1019 - 1.0*d3],\n",
       "[                                0,                                  0,   0,                                          1]])"
      ]
     },
     "execution_count": 729,
     "metadata": {},
     "output_type": "execute_result"
    }
   ],
   "source": [
    "#We substitute the values of la, lb, lc i l4 in the matrix\n",
    "mbee=mbee.subs({ lc:0.2, la:0.2, lb:0.2, l4:0.0981})\n",
    "mbee"
   ]
  },
  {
   "cell_type": "markdown",
   "metadata": {},
   "source": [
    "### COMUNICACIÓN CON COPPELIA Y EXTRACCIÓN DE CONTROLADORES"
   ]
  },
  {
   "cell_type": "code",
   "execution_count": 730,
   "metadata": {},
   "outputs": [
    {
     "name": "stdout",
     "output_type": "stream",
     "text": [
      "connected to 19999\n",
      "30 24 17 19 21 23\n"
     ]
    }
   ],
   "source": [
    "# we import the necessary libraries and establish a connection\n",
    "import sim         \n",
    "def connect(port):\n",
    "\n",
    "    sim.simxFinish(-1) # just in case, close all opened connections\n",
    "    clientID=sim.simxStart('127.0.0.1',port,True,True,2000,5) # Connect\n",
    "    if clientID == 0: print(\"connected to\", port)\n",
    "    else: print(\"could not connect\")\n",
    "    return clientID\n",
    "\n",
    "\n",
    "\n",
    "clientID = connect(19999)\n",
    "\n",
    "# Handlers\n",
    "# We require the handlers for the joints, the suction cup and the suction sensor (Allows us to know if the object is close)\n",
    "\n",
    "retCode,cuboid=sim.simxGetObjectHandle(clientID,'Cuboid',sim.simx_opmode_blocking)\n",
    "retCode,suction=sim.simxGetObjectHandle(clientID,'suctionPad',sim.simx_opmode_blocking)\n",
    "retCode,joint1=sim.simxGetObjectHandle(clientID,'Joint1',sim.simx_opmode_blocking)\n",
    "retCode,joint2=sim.simxGetObjectHandle(clientID,'Joint2',sim.simx_opmode_blocking)\n",
    "retCode,joint3=sim.simxGetObjectHandle(clientID,'Joint3',sim.simx_opmode_blocking)\n",
    "retCode,joint4=sim.simxGetObjectHandle(clientID,'Joint4',sim.simx_opmode_blocking)\n",
    "\n",
    "\n",
    "print( cuboid, suction, joint1, joint2, joint3, joint4 )"
   ]
  },
  {
   "cell_type": "markdown",
   "metadata": {},
   "source": [
    "<h3> Suction cup control </h3>\n",
    "Function that allows you to activate or deactivate the Coppelia suction cup from Jupyter. There are instructions in the Coppelia suctionPad scripts that allow remote use."
   ]
  },
  {
   "cell_type": "code",
   "execution_count": 731,
   "metadata": {},
   "outputs": [],
   "source": [
    "def setEffector(val):\n",
    "# function that triggers the end effector remotely\n",
    "# val is Int with value 0 or 1 to disable or activate the final actuator.\n",
    "    res,retInts,retFloats,retStrings,retBuffer=sim.simxCallScriptFunction(clientID,\n",
    "        \"suctionPad\", sim.sim_scripttype_childscript,\"setEffector\",[val],[],[],\"\", sim.simx_opmode_blocking)\n",
    "    return res"
   ]
  },
  {
   "cell_type": "markdown",
   "metadata": {},
   "source": [
    "### Rotation matrix from the Euler angles"
   ]
  },
  {
   "cell_type": "code",
   "execution_count": 732,
   "metadata": {},
   "outputs": [],
   "source": [
    "# We define a function to construct the rotation matrix from the Euler angles\n",
    "\n",
    "def matrixFromEuler(alpha, beta, gamma):\n",
    "    # theta y alpha in radians\n",
    "    # d y a in meters\n",
    "    Ra = sp.Matrix([[1, 0, 0, 0],\n",
    "                   [0, sp.cos(alpha), -sp.sin(alpha), 0],\n",
    "                   [0, sp.sin(alpha), sp.cos(alpha), 0],\n",
    "                   [0, 0, 0, 1]])\n",
    "    Rb = sp.Matrix([[sp.cos(beta), 0, sp.sin(beta), 0],\n",
    "                   [0, 1, 0, 0],\n",
    "                   [-sp.sin(beta), 0, sp.cos(beta), 0],\n",
    "                   [0, 0, 0, 1]])\n",
    "    Rc = sp.Matrix([[sp.cos(gamma), -sp.sin(gamma), 0, 0],\n",
    "                   [sp.sin(gamma), sp.cos(gamma), 0, 0],\n",
    "                   [0, 0, 1, 0],\n",
    "                   [0, 0, 0, 1]])\n",
    "    E = Ra*Rb*Rc\n",
    "    return E"
   ]
  },
  {
   "cell_type": "code",
   "execution_count": 733,
   "metadata": {},
   "outputs": [
    {
     "name": "stdout",
     "output_type": "stream",
     "text": [
      "[0.25, 0.25, 0.009999927133321762] [-0.0, 0.0, 25.00000012650595]\n",
      " Piece Position :  [0.25, 0.25, 0.009999927133321762] m\n",
      "Orientation of the Piece on the Z axis :  25. degrees\n"
     ]
    }
   ],
   "source": [
    "# WE GET THE POSITION AND ORIENTATION OF THE COBOID WE HAVE TO GET\n",
    "RetCode,posicion=sim.simxGetObjectPosition(clientID,cuboid, -1, sim.simx_opmode_blocking)\n",
    "RetCode,orientacion=sim.simxGetObjectOrientation(clientID,cuboid, -1, sim.simx_opmode_blocking)\n",
    "# Degrees of each axis\n",
    "orientacion[0]=orientacion[0]*180/np.pi\n",
    "orientacion[1]=orientacion[1]*180/np.pi\n",
    "orientacion[2]=orientacion[2]*180/np.pi\n",
    "print (posicion,orientacion)\n",
    "print(\" Piece Position : \", posicion, \"m\")\n",
    "orz= N(orientacion[2],2)\n",
    "print(\"Orientation of the Piece on the Z axis : \", orz, \"degrees\")\n",
    "# Check that the angles of the piece range from -90 to 90º"
   ]
  },
  {
   "cell_type": "code",
   "execution_count": 734,
   "metadata": {},
   "outputs": [
    {
     "data": {
      "text/latex": [
       "$\\displaystyle \\left[\\begin{matrix}0.90631 & -0.42262 & 0 & 0.25\\\\0.42262 & 0.90631 & 0 & 0.25\\\\0 & 0 & 1.0 & 0.021\\\\0 & 0 & 0 & 1.0\\end{matrix}\\right]$"
      ],
      "text/plain": [
       "Matrix([\n",
       "[0.90631, -0.42262,   0,  0.25],\n",
       "[0.42262,  0.90631,   0,  0.25],\n",
       "[      0,        0, 1.0, 0.021],\n",
       "[      0,        0,   0,   1.0]])"
      ]
     },
     "execution_count": 734,
     "metadata": {},
     "output_type": "execute_result"
    }
   ],
   "source": [
    "# We observe that the object is oriented in the Z Axis about 25 degrees\n",
    "# We build the object matrix with its orientations and positions\n",
    "mpieza = sp.Matrix([[1, 0, 0,posicion[0]],\n",
    "               [0, 1, 0, posicion[1]], \n",
    "               [0, 0, 1, posicion[2]], \n",
    "               [0, 0, 0, 1]])\n",
    "Objetivo = mpieza*matrixFromEuler(0, 0,orz*np.pi/180) \n",
    "#I only pass the Z Axis, the others are close to 0 (in an atropomorphic the Alga, Beta and Gamma should be passed)\n",
    "\n",
    "# We adjust the grip position of the suction cup\n",
    "# IMPORTANT: THE PIECE GIVES US A Z POSITION CENTERED ON THE PIECE OF ONE CM--> BUT THE SUCTION CUP HAS TO GET IT 1mm ABOVE\n",
    "dventosa=0.011 # It will be located in our case at 2.1 cm in Z, being able to pick up the piece\n",
    "Objetivo[2,3]=Objetivo[2,3]+dventosa\n",
    "Objetivo=N(Objetivo,5) \n",
    "Objetivo"
   ]
  },
  {
   "cell_type": "code",
   "execution_count": 735,
   "metadata": {},
   "outputs": [
    {
     "data": {
      "text/latex": [
       "$\\displaystyle \\left[\\begin{matrix}1.0 \\cos{\\left(\\theta_{1} + \\theta_{2} - \\theta_{4} \\right)} - 0.90631 & 0.42262 - 1.0 \\sin{\\left(\\theta_{1} + \\theta_{2} - \\theta_{4} \\right)} & 0 & 0.2 \\cos{\\left(\\theta_{1} + \\theta_{2} \\right)} + 0.2 \\cos{\\left(\\theta_{1} \\right)} - 0.25\\\\1.0 \\sin{\\left(\\theta_{1} + \\theta_{2} - \\theta_{4} \\right)} - 0.42262 & 1.0 \\cos{\\left(\\theta_{1} + \\theta_{2} - \\theta_{4} \\right)} - 0.90631 & 0 & 0.2 \\sin{\\left(\\theta_{1} + \\theta_{2} \\right)} + 0.2 \\sin{\\left(\\theta_{1} \\right)} - 0.25\\\\0 & 0 & 0 & 0.080900061750412 - 1.0 d_{3}\\\\0 & 0 & 0 & 0\\end{matrix}\\right]$"
      ],
      "text/plain": [
       "Matrix([\n",
       "[1.0*cos(theta1 + theta2 - theta4) - 0.90631, 0.42262 - 1.0*sin(theta1 + theta2 - theta4), 0, 0.2*cos(theta1 + theta2) + 0.2*cos(theta1) - 0.25],\n",
       "[1.0*sin(theta1 + theta2 - theta4) - 0.42262, 1.0*cos(theta1 + theta2 - theta4) - 0.90631, 0, 0.2*sin(theta1 + theta2) + 0.2*sin(theta1) - 0.25],\n",
       "[                                          0,                                           0, 0,                        0.080900061750412 - 1.0*d3],\n",
       "[                                          0,                                           0, 0,                                                 0]])"
      ]
     },
     "execution_count": 735,
     "metadata": {},
     "output_type": "execute_result"
    }
   ],
   "source": [
    "# Sympy's nsolve function searches for solutions that\n",
    "# set an expression equal to zero. If we require mbee = D, then we look for mbee-D = 0\n",
    "eq=mbee-Objetivo\n",
    "eq\n"
   ]
  },
  {
   "cell_type": "markdown",
   "metadata": {},
   "source": [
    "## We solve using Sympy's nsolve\n",
    "### We can obtain the angles and distances of the Joints"
   ]
  },
  {
   "cell_type": "code",
   "execution_count": 736,
   "metadata": {},
   "outputs": [
    {
     "data": {
      "text/latex": [
       "$\\displaystyle \\left[\\begin{matrix}0.2987\\\\0.97339\\\\0.0809\\\\0.83576\\end{matrix}\\right]$"
      ],
      "text/plain": [
       "Matrix([\n",
       "[ 0.2987],\n",
       "[0.97339],\n",
       "[ 0.0809],\n",
       "[0.83576]])"
      ]
     },
     "execution_count": 736,
     "metadata": {},
     "output_type": "execute_result"
    }
   ],
   "source": [
    "try:\n",
    "    q = nsolve(mbee-Objetivo, (theta1,theta2,d3,theta4),(1, 1, 1, 1), prec=5)\n",
    "except:\n",
    "    print('no se encontró la solución, es posible que haya infinitas soluciones')\n",
    "    q = [0, 0, 0, 0]\n",
    "q\n",
    "# It is possible that you will not find a solution due to the precision and initial values given, try changing orientation and position\n"
   ]
  },
  {
   "cell_type": "code",
   "execution_count": 737,
   "metadata": {},
   "outputs": [
    {
     "name": "stdout",
     "output_type": "stream",
     "text": [
      "Matrix([[0.29870], [0.97339], [0.080900], [0.83576]])\n",
      "17.1144408238486 55.7711404366566 -0.080900 47.8855880780249\n"
     ]
    }
   ],
   "source": [
    "# Degrees of each axis\n",
    "q[0]=q[0]-round(q[0]/(np.pi*2))*2*np.pi\n",
    "q[1]=q[1]-round(q[1]/(np.pi*2))*2*np.pi\n",
    "q[3]=q[3]-round(q[3]/(np.pi*2))*2*np.pi\n",
    "print(q)\n",
    "a1=q[0]*180/np.pi\n",
    "a2=q[1]*180/np.pi\n",
    "a3=-q[2]  # destination distance\n",
    "a4=q[3]*180/np.pi\n",
    "print(a1,a2,a3,a4)"
   ]
  },
  {
   "cell_type": "markdown",
   "metadata": {},
   "source": [
    "<img src=\"0piece.png\" width=\"500\"><br>"
   ]
  },
  {
   "cell_type": "code",
   "execution_count": 738,
   "metadata": {},
   "outputs": [],
   "source": [
    "\n",
    "import time\n",
    "time.sleep(3)\n",
    "setEffector(0)\n",
    "# PUT IN THE DESIRED POINT\n",
    "retCode = sim.simxSetJointTargetPosition(clientID, joint1, q[0], sim.simx_opmode_oneshot)\n",
    "retCode = sim.simxSetJointTargetPosition(clientID, joint2, q[1], sim.simx_opmode_oneshot)\n",
    "retCode = sim.simxSetJointTargetPosition(clientID, joint4, q[3], sim.simx_opmode_oneshot)\n",
    "time.sleep(3)\n",
    "retCode = sim.simxSetJointTargetPosition(clientID, joint3, a3, sim.simx_opmode_oneshot)\n",
    "setEffector(1)\n",
    "time.sleep(1)\n",
    "retCode = sim.simxSetJointTargetPosition(clientID, joint3, a3+0.08, sim.simx_opmode_oneshot) # SUBO 8cm\n",
    "time.sleep(1)"
   ]
  },
  {
   "cell_type": "code",
   "execution_count": 739,
   "metadata": {},
   "outputs": [
    {
     "data": {
      "text/latex": [
       "$\\displaystyle \\left[\\begin{matrix}1.0 & 0 & 0 & 0.23\\\\0 & 1.0 & 0 & 0\\\\0 & 0 & 1.0 & 0.021\\\\0 & 0 & 0 & 1.0\\end{matrix}\\right]$"
      ],
      "text/plain": [
       "Matrix([\n",
       "[1.0,   0,   0,  0.23],\n",
       "[  0, 1.0,   0,     0],\n",
       "[  0,   0, 1.0, 0.021],\n",
       "[  0,   0,   0,   1.0]])"
      ]
     },
     "execution_count": 739,
     "metadata": {},
     "output_type": "execute_result"
    }
   ],
   "source": [
    "# Si quisiera colocar la pieza por ejemplo en el punto x,y,z=0.25,0,0.021\n",
    "x,y,z=0.23,0,0.021\n",
    "# Construimos la matriz destino con sus orientaciones y posiciones\n",
    "destino = sp.Matrix([[1, 0, 0,x],\n",
    "               [0, 1, 0, y], \n",
    "               [0, 0, 1,z], \n",
    "               [0, 0, 0, 1]])\n",
    "PuntoDestino = destino*matrixFromEuler(0, 0, 0) #Solo le paso la del Eje Z, para jugar al dominó puede ser 0 o 90º\n",
    "\n",
    "# Ajustamos la posición de cogida de la ventosa \n",
    "# IMPORTANTE: LA PIEZA NOS DA UNA POSICIÓN Z CENTRADA EN LA PIEZA DE UN CM--> PERO LA VENTOSA A DE COGERLA 1mm POR ENCIM\n",
    "PuntoDestino=N(PuntoDestino,5)\n",
    "PuntoDestino"
   ]
  },
  {
   "cell_type": "code",
   "execution_count": 740,
   "metadata": {},
   "outputs": [
    {
     "data": {
      "text/latex": [
       "$\\displaystyle \\left[\\begin{matrix}-0.95819\\\\1.9164\\\\0.0809\\\\0.95819\\end{matrix}\\right]$"
      ],
      "text/plain": [
       "Matrix([\n",
       "[-0.95819],\n",
       "[  1.9164],\n",
       "[  0.0809],\n",
       "[ 0.95819]])"
      ]
     },
     "execution_count": 740,
     "metadata": {},
     "output_type": "execute_result"
    }
   ],
   "source": [
    "try:\n",
    "    q = nsolve(mbee-PuntoDestino, (theta1,theta2,d3,theta4),(1, 1, 1, 1), prec=5)\n",
    "except:\n",
    "    print('solution was not found, it is possible that there are infinite solutions')\n",
    "    q = [0, 0, 0, 0]\n",
    "q\n"
   ]
  },
  {
   "cell_type": "code",
   "execution_count": 741,
   "metadata": {},
   "outputs": [
    {
     "name": "stdout",
     "output_type": "stream",
     "text": [
      "Matrix([[-0.95819], [1.9164], [0.080900], [0.95819]])\n",
      "-54.9003732797500 109.800746559500 -0.080900 54.9003732797500\n"
     ]
    }
   ],
   "source": [
    "# Grados de cada eje destino\n",
    "q[0]=q[0]-round(q[0]/(np.pi*2))*2*np.pi\n",
    "q[1]=q[1]-round(q[1]/(np.pi*2))*2*np.pi\n",
    "q[3]=q[3]-round(q[3]/(np.pi*2))*2*np.pi\n",
    "print(q)\n",
    "b1=q[0]*180/np.pi\n",
    "b2=q[1]*180/np.pi\n",
    "b3=-q[2]  # distancia destino: restará al prismático la distancia máxima\n",
    "b4=q[3]*180/np.pi\n",
    "print(b1,b2,b3,b4)"
   ]
  },
  {
   "cell_type": "code",
   "execution_count": 742,
   "metadata": {},
   "outputs": [
    {
     "data": {
      "text/latex": [
       "$\\displaystyle 40.8707960587801$"
      ],
      "text/plain": [
       "40.8707960587801"
      ]
     },
     "execution_count": 742,
     "metadata": {},
     "output_type": "execute_result"
    }
   ],
   "source": [
    "#Correction needed of orientation:\n",
    "correccion=a1-b1+a2-b2+a4-orz\n",
    "correccion\n",
    "# Substraction between origin and destination angles"
   ]
  },
  {
   "cell_type": "code",
   "execution_count": 743,
   "metadata": {},
   "outputs": [],
   "source": [
    "retCode = sim.simxSetJointTargetPosition(clientID, joint1, q[0], sim.simx_opmode_oneshot)\n",
    "retCode = sim.simxSetJointTargetPosition(clientID, joint2, q[1], sim.simx_opmode_oneshot)\n",
    "time.sleep(2)\n",
    "retCode = sim.simxSetJointTargetPosition(clientID, joint4,(correccion)*np.pi/180, sim.simx_opmode_oneshot)\n",
    "time.sleep(2)\n",
    "retCode = sim.simxSetJointTargetPosition(clientID, joint3, a3+0.002, sim.simx_opmode_oneshot)\n",
    "time.sleep(1)\n",
    "setEffector(0)\n",
    "time.sleep(1)\n",
    "retCode = sim.simxSetJointTargetPosition(clientID, joint3, a3+0.08, sim.simx_opmode_oneshot)"
   ]
  },
  {
   "cell_type": "markdown",
   "metadata": {},
   "source": [
    "<img src=\"1piece.png\" width=\"500\"><br>"
   ]
  },
  {
   "cell_type": "markdown",
   "metadata": {},
   "source": [
    "<h3>EXERCISE -\n",
    "    You have to do the programming to place the 3 dominoes together with a proper orientation.\n",
    "    \n",
    "Note: It is not necessary to apply image recognition algorithms or the values of the chips, we just want to place the chips in an orderly manner </h3>"
   ]
  },
  {
   "cell_type": "markdown",
   "metadata": {},
   "source": [
    "Let´s go for Cuboid1"
   ]
  },
  {
   "cell_type": "code",
   "execution_count": 744,
   "metadata": {},
   "outputs": [
    {
     "name": "stdout",
     "output_type": "stream",
     "text": [
      "30 32 33 24 17 19 21 23\n"
     ]
    }
   ],
   "source": [
    "# Handlers\n",
    "# We require the handlers for the joints, the suction cup and the suction sensor (Allows us to know if the object is close)\n",
    "\n",
    "retCode,cuboid=sim.simxGetObjectHandle(clientID,'Cuboid',sim.simx_opmode_blocking)\n",
    "retCode,cuboid1=sim.simxGetObjectHandle(clientID,'Cuboid1',sim.simx_opmode_blocking)\n",
    "retCode,cuboid2=sim.simxGetObjectHandle(clientID,'Cuboid2',sim.simx_opmode_blocking)\n",
    "retCode,suction=sim.simxGetObjectHandle(clientID,'suctionPad',sim.simx_opmode_blocking)\n",
    "retCode,joint1=sim.simxGetObjectHandle(clientID,'Joint1',sim.simx_opmode_blocking)\n",
    "retCode,joint2=sim.simxGetObjectHandle(clientID,'Joint2',sim.simx_opmode_blocking)\n",
    "retCode,joint3=sim.simxGetObjectHandle(clientID,'Joint3',sim.simx_opmode_blocking)\n",
    "retCode,joint4=sim.simxGetObjectHandle(clientID,'Joint4',sim.simx_opmode_blocking)\n",
    "\n",
    "\n",
    "print( cuboid, cuboid1, cuboid2, suction, joint1, joint2, joint3, joint4 )"
   ]
  },
  {
   "cell_type": "code",
   "execution_count": 745,
   "metadata": {},
   "outputs": [
    {
     "name": "stdout",
     "output_type": "stream",
     "text": [
      "[0.04465553164482117, 0.2800000011920929, 0.009999927133321762] [-0.0, 0.0, 50.00000366810648]\n",
      " Piece Position :  [0.04465553164482117, 0.2800000011920929, 0.009999927133321762] m\n",
      "Orientation of the Piece on the Z axis :  50. degrees\n"
     ]
    }
   ],
   "source": [
    "\n",
    "# WE GET THE POSITION AND ORIENTATION OF THE COBOID WE HAVE TO GET\n",
    "RetCode,posicion=sim.simxGetObjectPosition(clientID,cuboid1, -1, sim.simx_opmode_blocking)\n",
    "RetCode,orientacion=sim.simxGetObjectOrientation(clientID,cuboid1, -1, sim.simx_opmode_blocking)\n",
    "# Degrees of each axis\n",
    "orientacion[0]=orientacion[0]*180/np.pi\n",
    "orientacion[1]=orientacion[1]*180/np.pi\n",
    "orientacion[2]=orientacion[2]*180/np.pi\n",
    "print (posicion,orientacion)\n",
    "print(\" Piece Position : \", posicion, \"m\")\n",
    "orz= N(orientacion[2],2)\n",
    "print(\"Orientation of the Piece on the Z axis : \", orz, \"degrees\")\n",
    "# Check that the angles of the piece range from -90 to 90º\n"
   ]
  },
  {
   "cell_type": "code",
   "execution_count": 746,
   "metadata": {},
   "outputs": [
    {
     "data": {
      "text/latex": [
       "$\\displaystyle \\left[\\begin{matrix}0.64279 & -0.76604 & 0 & 0.044656\\\\0.76604 & 0.64279 & 0 & 0.28\\\\0 & 0 & 1.0 & 0.021\\\\0 & 0 & 0 & 1.0\\end{matrix}\\right]$"
      ],
      "text/plain": [
       "Matrix([\n",
       "[0.64279, -0.76604,   0, 0.044656],\n",
       "[0.76604,  0.64279,   0,     0.28],\n",
       "[      0,        0, 1.0,    0.021],\n",
       "[      0,        0,   0,      1.0]])"
      ]
     },
     "execution_count": 746,
     "metadata": {},
     "output_type": "execute_result"
    }
   ],
   "source": [
    "# We observe that the object is oriented in the Z Axis about 50 degrees\n",
    "# We build the object matrix with its orientations and positions\n",
    "mpieza = sp.Matrix([[1, 0, 0,posicion[0]],\n",
    "               [0, 1, 0, posicion[1]], \n",
    "               [0, 0, 1, posicion[2]], \n",
    "               [0, 0, 0, 1]])\n",
    "Objetivo = mpieza*matrixFromEuler(0, 0,orz*np.pi/180) \n",
    "#I only pass the Z Axis, the others are close to 0 (in an atropomorphic the Alga, Beta and Gamma should be passed)\n",
    "\n",
    "# We adjust the grip position of the suction cup\n",
    "# IMPORTANT: THE PIECE GIVES US A Z POSITION CENTERED ON THE PIECE OF ONE CM--> BUT THE SUCTION CUP HAS TO GET IT 1mm ABOVE\n",
    "dventosa=0.011 # It will be located in our case at 2.1 cm in Z, being able to pick up the piece\n",
    "Objetivo[2,3]=Objetivo[2,3]+dventosa\n",
    "Objetivo=N(Objetivo,5) \n",
    "Objetivo"
   ]
  },
  {
   "cell_type": "code",
   "execution_count": 747,
   "metadata": {},
   "outputs": [
    {
     "data": {
      "text/latex": [
       "$\\displaystyle \\left[\\begin{matrix}1.0 \\cos{\\left(\\theta_{1} + \\theta_{2} - \\theta_{4} \\right)} - 0.64279 & 0.76604 - 1.0 \\sin{\\left(\\theta_{1} + \\theta_{2} - \\theta_{4} \\right)} & 0 & 0.2 \\cos{\\left(\\theta_{1} + \\theta_{2} \\right)} + 0.2 \\cos{\\left(\\theta_{1} \\right)} - 0.044656\\\\1.0 \\sin{\\left(\\theta_{1} + \\theta_{2} - \\theta_{4} \\right)} - 0.76604 & 1.0 \\cos{\\left(\\theta_{1} + \\theta_{2} - \\theta_{4} \\right)} - 0.64279 & 0 & 0.2 \\sin{\\left(\\theta_{1} + \\theta_{2} \\right)} + 0.2 \\sin{\\left(\\theta_{1} \\right)} - 0.28\\\\0 & 0 & 0 & 0.080900061750412 - 1.0 d_{3}\\\\0 & 0 & 0 & 0\\end{matrix}\\right]$"
      ],
      "text/plain": [
       "Matrix([\n",
       "[1.0*cos(theta1 + theta2 - theta4) - 0.64279, 0.76604 - 1.0*sin(theta1 + theta2 - theta4), 0, 0.2*cos(theta1 + theta2) + 0.2*cos(theta1) - 0.044656],\n",
       "[1.0*sin(theta1 + theta2 - theta4) - 0.76604, 1.0*cos(theta1 + theta2 - theta4) - 0.64279, 0,     0.2*sin(theta1 + theta2) + 0.2*sin(theta1) - 0.28],\n",
       "[                                          0,                                           0, 0,                            0.080900061750412 - 1.0*d3],\n",
       "[                                          0,                                           0, 0,                                                     0]])"
      ]
     },
     "execution_count": 747,
     "metadata": {},
     "output_type": "execute_result"
    }
   ],
   "source": [
    "# Sympy's nsolve function searches for solutions that\n",
    "# set an expression equal to zero. If we require mbee = D, then we look for mbee-D = 0\n",
    "eq=mbee-Objetivo\n",
    "eq\n"
   ]
  },
  {
   "cell_type": "code",
   "execution_count": 748,
   "metadata": {},
   "outputs": [
    {
     "data": {
      "text/latex": [
       "$\\displaystyle \\left[\\begin{matrix}0.62971\\\\1.5659\\\\0.0809\\\\1.3229\\end{matrix}\\right]$"
      ],
      "text/plain": [
       "Matrix([\n",
       "[0.62971],\n",
       "[ 1.5659],\n",
       "[ 0.0809],\n",
       "[ 1.3229]])"
      ]
     },
     "execution_count": 748,
     "metadata": {},
     "output_type": "execute_result"
    }
   ],
   "source": [
    "try:\n",
    "    q = nsolve(mbee-Objetivo, (theta1,theta2,d3,theta4),(1, 1, 1, 1), prec=5)\n",
    "except:\n",
    "    print('no se encontró la solución, es posible que haya infinitas soluciones')\n",
    "    q = [0, 0, 0, 0]\n",
    "q\n",
    "# It is possible that you will not find a solution due to the precision and initial values given, try changing orientation and position\n",
    "\n",
    "\n"
   ]
  },
  {
   "cell_type": "code",
   "execution_count": 749,
   "metadata": {},
   "outputs": [
    {
     "name": "stdout",
     "output_type": "stream",
     "text": [
      "Matrix([[0.62971], [1.5659], [0.080900], [1.3229]])\n",
      "36.0797184163242 89.7176930275897 -0.080900 75.7973862227661\n"
     ]
    }
   ],
   "source": [
    "# Degrees of each axis\n",
    "q[0]=q[0]-round(q[0]/(np.pi*2))*2*np.pi\n",
    "q[1]=q[1]-round(q[1]/(np.pi*2))*2*np.pi\n",
    "q[3]=q[3]-round(q[3]/(np.pi*2))*2*np.pi\n",
    "print(q)\n",
    "a1=q[0]*180/np.pi\n",
    "a2=q[1]*180/np.pi\n",
    "a3=-q[2]  # destination distance\n",
    "a4=q[3]*180/np.pi\n",
    "print(a1,a2,a3,a4)\n"
   ]
  },
  {
   "cell_type": "code",
   "execution_count": 750,
   "metadata": {
    "scrolled": true
   },
   "outputs": [],
   "source": [
    "\n",
    "import time\n",
    "time.sleep(3)\n",
    "setEffector(0)\n",
    "# PUT IN THE DESIRED POINT\n",
    "retCode = sim.simxSetJointTargetPosition(clientID, joint1, q[0], sim.simx_opmode_oneshot)\n",
    "retCode = sim.simxSetJointTargetPosition(clientID, joint2, q[1], sim.simx_opmode_oneshot)\n",
    "retCode = sim.simxSetJointTargetPosition(clientID, joint4, q[3], sim.simx_opmode_oneshot)\n",
    "time.sleep(3)\n",
    "retCode = sim.simxSetJointTargetPosition(clientID, joint3, a3, sim.simx_opmode_oneshot)\n",
    "setEffector(1)\n",
    "time.sleep(1)\n",
    "retCode = sim.simxSetJointTargetPosition(clientID, joint3, a3+0.08, sim.simx_opmode_oneshot) # SUBO 8cm\n",
    "time.sleep(1)"
   ]
  },
  {
   "cell_type": "code",
   "execution_count": 751,
   "metadata": {},
   "outputs": [
    {
     "data": {
      "text/latex": [
       "$\\displaystyle \\left[\\begin{matrix}1.0 & 0 & 0 & 0.23\\\\0 & 1.0 & 0 & 0.09\\\\0 & 0 & 1.0 & 0.021\\\\0 & 0 & 0 & 1.0\\end{matrix}\\right]$"
      ],
      "text/plain": [
       "Matrix([\n",
       "[1.0,   0,   0,  0.23],\n",
       "[  0, 1.0,   0,  0.09],\n",
       "[  0,   0, 1.0, 0.021],\n",
       "[  0,   0,   0,   1.0]])"
      ]
     },
     "execution_count": 751,
     "metadata": {},
     "output_type": "execute_result"
    }
   ],
   "source": [
    "# Si quisiera colocar la pieza por ejemplo en el punto x,y,z=0.25,0,0.021\n",
    "x,y,z=0.23,0.09,0.021\n",
    "# Construimos la matriz destino con sus orientaciones y posiciones\n",
    "destino = sp.Matrix([[1, 0, 0,x],\n",
    "               [0, 1, 0, y], \n",
    "               [0, 0, 1,z], \n",
    "               [0, 0, 0, 1]])\n",
    "PuntoDestino = destino*matrixFromEuler(0, 0, 0) #Solo le paso la del Eje Z, para jugar al dominó puede ser 0 o 90º\n",
    "\n",
    "# Ajustamos la posición de cogida de la ventosa \n",
    "# IMPORTANTE: LA PIEZA NOS DA UNA POSICIÓN Z CENTRADA EN LA PIEZA DE UN CM--> PERO LA VENTOSA A DE COGERLA 1mm POR ENCIM\n",
    "PuntoDestino=N(PuntoDestino,5)\n",
    "PuntoDestino"
   ]
  },
  {
   "cell_type": "code",
   "execution_count": 752,
   "metadata": {},
   "outputs": [
    {
     "data": {
      "text/latex": [
       "$\\displaystyle \\left[\\begin{matrix}-0.53231\\\\1.8106\\\\0.0809\\\\1.2783\\end{matrix}\\right]$"
      ],
      "text/plain": [
       "Matrix([\n",
       "[-0.53231],\n",
       "[  1.8106],\n",
       "[  0.0809],\n",
       "[  1.2783]])"
      ]
     },
     "execution_count": 752,
     "metadata": {},
     "output_type": "execute_result"
    }
   ],
   "source": [
    "try:\n",
    "    q = nsolve(mbee-PuntoDestino, (theta1,theta2,d3,theta4),(1, 1, 1, 1), prec=5)\n",
    "except:\n",
    "    print('solution was not found, it is possible that there are infinite solutions')\n",
    "    q = [0, 0, 0, 0]\n",
    "q\n"
   ]
  },
  {
   "cell_type": "code",
   "execution_count": 753,
   "metadata": {},
   "outputs": [
    {
     "name": "stdout",
     "output_type": "stream",
     "text": [
      "Matrix([[-0.53231], [1.8106], [0.080900], [1.2783]])\n",
      "-30.4988819499173 103.739025919337 -0.080900 73.2401828256069\n"
     ]
    }
   ],
   "source": [
    "# Grados de cada eje destino\n",
    "q[0]=q[0]-round(q[0]/(np.pi*2))*2*np.pi\n",
    "q[1]=q[1]-round(q[1]/(np.pi*2))*2*np.pi\n",
    "q[3]=q[3]-round(q[3]/(np.pi*2))*2*np.pi\n",
    "print(q)\n",
    "b1=q[0]*180/np.pi\n",
    "b2=q[1]*180/np.pi\n",
    "b3=-q[2]  # distancia destino: restará al prismático la distancia máxima\n",
    "b4=q[3]*180/np.pi\n",
    "print(b1,b2,b3,b4)"
   ]
  },
  {
   "cell_type": "code",
   "execution_count": 754,
   "metadata": {},
   "outputs": [
    {
     "data": {
      "text/latex": [
       "$\\displaystyle 78.3546536972603$"
      ],
      "text/plain": [
       "78.3546536972603"
      ]
     },
     "execution_count": 754,
     "metadata": {},
     "output_type": "execute_result"
    }
   ],
   "source": [
    "#Correction needed of orientation:\n",
    "correccion=a1-b1+a2-b2+a4-orz\n",
    "correccion\n",
    "# Substraction between origin and destination angles"
   ]
  },
  {
   "cell_type": "code",
   "execution_count": 755,
   "metadata": {},
   "outputs": [],
   "source": [
    "retCode = sim.simxSetJointTargetPosition(clientID, joint1, q[0], sim.simx_opmode_oneshot)\n",
    "retCode = sim.simxSetJointTargetPosition(clientID, joint2, q[1], sim.simx_opmode_oneshot)\n",
    "time.sleep(2)\n",
    "retCode = sim.simxSetJointTargetPosition(clientID, joint4,(correccion)*np.pi/180, sim.simx_opmode_oneshot)\n",
    "time.sleep(2)\n",
    "retCode = sim.simxSetJointTargetPosition(clientID, joint3, a3+0.002, sim.simx_opmode_oneshot)\n",
    "time.sleep(1)\n",
    "setEffector(0)\n",
    "time.sleep(1)\n",
    "retCode = sim.simxSetJointTargetPosition(clientID, joint3, a3+0.08, sim.simx_opmode_oneshot)"
   ]
  },
  {
   "cell_type": "markdown",
   "metadata": {},
   "source": [
    "NOW Cuboid2 (3:4)\n"
   ]
  },
  {
   "cell_type": "code",
   "execution_count": 756,
   "metadata": {},
   "outputs": [
    {
     "name": "stdout",
     "output_type": "stream",
     "text": [
      "[0.1446555256843567, 0.3050000071525574, 0.009999927133321762] [1.1771901810343977e-15, 2.6962214927865134e-14, -94.9999741844943]\n",
      " Piece Position :  [0.1446555256843567, 0.3050000071525574, 0.009999927133321762] m\n",
      "Orientation of the Piece on the Z axis :  -95. degrees\n"
     ]
    }
   ],
   "source": [
    "\n",
    "# WE GET THE POSITION AND ORIENTATION OF THE COBOID WE HAVE TO GET\n",
    "RetCode,posicion=sim.simxGetObjectPosition(clientID,cuboid2, -1, sim.simx_opmode_blocking)\n",
    "RetCode,orientacion=sim.simxGetObjectOrientation(clientID,cuboid2, -1, sim.simx_opmode_blocking)\n",
    "# Degrees of each axis\n",
    "orientacion[0]=orientacion[0]*180/np.pi\n",
    "orientacion[1]=orientacion[1]*180/np.pi\n",
    "orientacion[2]=orientacion[2]*180/np.pi\n",
    "print (posicion,orientacion)\n",
    "print(\" Piece Position : \", posicion, \"m\")\n",
    "orz= N(orientacion[2],2)\n",
    "print(\"Orientation of the Piece on the Z axis : \", orz, \"degrees\")\n",
    "# Check that the angles of the piece range from -90 to 90º\n"
   ]
  },
  {
   "cell_type": "code",
   "execution_count": 757,
   "metadata": {},
   "outputs": [
    {
     "data": {
      "text/latex": [
       "$\\displaystyle \\left[\\begin{matrix}-0.087156 & 0.99619 & 0 & 0.14466\\\\-0.99619 & -0.087156 & 0 & 0.305\\\\0 & 0 & 1.0 & 0.021\\\\0 & 0 & 0 & 1.0\\end{matrix}\\right]$"
      ],
      "text/plain": [
       "Matrix([\n",
       "[-0.087156,   0.99619,   0, 0.14466],\n",
       "[ -0.99619, -0.087156,   0,   0.305],\n",
       "[        0,         0, 1.0,   0.021],\n",
       "[        0,         0,   0,     1.0]])"
      ]
     },
     "execution_count": 757,
     "metadata": {},
     "output_type": "execute_result"
    }
   ],
   "source": [
    "# We observe that the object is oriented in the Z Axis about 50 degrees\n",
    "# We build the object matrix with its orientations and positions\n",
    "mpieza = sp.Matrix([[1, 0, 0,posicion[0]],\n",
    "               [0, 1, 0, posicion[1]], \n",
    "               [0, 0, 1, posicion[2]], \n",
    "               [0, 0, 0, 1]])\n",
    "Objetivo = mpieza*matrixFromEuler(0, 0,orz*np.pi/180) \n",
    "#I only pass the Z Axis, the others are close to 0 (in an atropomorphic the Alga, Beta and Gamma should be passed)\n",
    "\n",
    "# We adjust the grip position of the suction cup\n",
    "# IMPORTANT: THE PIECE GIVES US A Z POSITION CENTERED ON THE PIECE OF ONE CM--> BUT THE SUCTION CUP HAS TO GET IT 1mm ABOVE\n",
    "dventosa=0.011 # It will be located in our case at 2.1 cm in Z, being able to pick up the piece\n",
    "Objetivo[2,3]=Objetivo[2,3]+dventosa\n",
    "Objetivo=N(Objetivo,5) \n",
    "Objetivo"
   ]
  },
  {
   "cell_type": "code",
   "execution_count": 758,
   "metadata": {},
   "outputs": [
    {
     "data": {
      "text/latex": [
       "$\\displaystyle \\left[\\begin{matrix}1.0 \\cos{\\left(\\theta_{1} + \\theta_{2} - \\theta_{4} \\right)} + 0.087156 & - 1.0 \\sin{\\left(\\theta_{1} + \\theta_{2} - \\theta_{4} \\right)} - 0.99619 & 0 & 0.2 \\cos{\\left(\\theta_{1} + \\theta_{2} \\right)} + 0.2 \\cos{\\left(\\theta_{1} \\right)} - 0.14466\\\\1.0 \\sin{\\left(\\theta_{1} + \\theta_{2} - \\theta_{4} \\right)} + 0.99619 & 1.0 \\cos{\\left(\\theta_{1} + \\theta_{2} - \\theta_{4} \\right)} + 0.087156 & 0 & 0.2 \\sin{\\left(\\theta_{1} + \\theta_{2} \\right)} + 0.2 \\sin{\\left(\\theta_{1} \\right)} - 0.305\\\\0 & 0 & 0 & 0.080900061750412 - 1.0 d_{3}\\\\0 & 0 & 0 & 0\\end{matrix}\\right]$"
      ],
      "text/plain": [
       "Matrix([\n",
       "[1.0*cos(theta1 + theta2 - theta4) + 0.087156, -1.0*sin(theta1 + theta2 - theta4) - 0.99619, 0, 0.2*cos(theta1 + theta2) + 0.2*cos(theta1) - 0.14466],\n",
       "[ 1.0*sin(theta1 + theta2 - theta4) + 0.99619, 1.0*cos(theta1 + theta2 - theta4) + 0.087156, 0,   0.2*sin(theta1 + theta2) + 0.2*sin(theta1) - 0.305],\n",
       "[                                           0,                                            0, 0,                           0.080900061750412 - 1.0*d3],\n",
       "[                                           0,                                            0, 0,                                                    0]])"
      ]
     },
     "execution_count": 758,
     "metadata": {},
     "output_type": "execute_result"
    }
   ],
   "source": [
    "# Sympy's nsolve function searches for solutions that\n",
    "# set an expression equal to zero. If we require mbee = D, then we look for mbee-D = 0\n",
    "eq=mbee-Objetivo\n",
    "eq\n"
   ]
  },
  {
   "cell_type": "code",
   "execution_count": 759,
   "metadata": {},
   "outputs": [
    {
     "data": {
      "text/latex": [
       "$\\displaystyle \\left[\\begin{matrix}0.56167\\\\1.1325\\\\0.0809\\\\3.3523\\end{matrix}\\right]$"
      ],
      "text/plain": [
       "Matrix([\n",
       "[0.56167],\n",
       "[ 1.1325],\n",
       "[ 0.0809],\n",
       "[ 3.3523]])"
      ]
     },
     "execution_count": 759,
     "metadata": {},
     "output_type": "execute_result"
    }
   ],
   "source": [
    "try:\n",
    "    q = nsolve(mbee-Objetivo, (theta1,theta2,d3,theta4),(1, 1, 1, 1), prec=5)\n",
    "except:\n",
    "    print('no se encontró la solución, es posible que haya infinitas soluciones')\n",
    "    q = [0, 0, 0, 0]\n",
    "q\n",
    "# It is possible that you will not find a solution due to the precision and initial values given, try changing orientation and position\n",
    "\n",
    "\n"
   ]
  },
  {
   "cell_type": "code",
   "execution_count": 760,
   "metadata": {},
   "outputs": [
    {
     "name": "stdout",
     "output_type": "stream",
     "text": [
      "Matrix([[0.56167], [1.1325], [0.080900], [-2.93092471757998]])\n",
      "32.1815102838166 64.8887447815085 -0.080900 -167.929616387905\n"
     ]
    }
   ],
   "source": [
    "# Degrees of each axis\n",
    "q[0]=q[0]-round(q[0]/(np.pi*2))*2*np.pi\n",
    "q[1]=q[1]-round(q[1]/(np.pi*2))*2*np.pi\n",
    "q[3]=q[3]-round(q[3]/(np.pi*2))*2*np.pi\n",
    "print(q)\n",
    "a1=q[0]*180/np.pi\n",
    "a2=q[1]*180/np.pi\n",
    "a3=-q[2]  # destination distance\n",
    "a4=q[3]*180/np.pi\n",
    "print(a1,a2,a3,a4)\n"
   ]
  },
  {
   "cell_type": "code",
   "execution_count": 761,
   "metadata": {},
   "outputs": [],
   "source": [
    "\n",
    "import time\n",
    "time.sleep(3)\n",
    "setEffector(0)\n",
    "# PUT IN THE DESIRED POINT\n",
    "retCode = sim.simxSetJointTargetPosition(clientID, joint1, q[0], sim.simx_opmode_oneshot)\n",
    "retCode = sim.simxSetJointTargetPosition(clientID, joint2, q[1], sim.simx_opmode_oneshot)\n",
    "retCode = sim.simxSetJointTargetPosition(clientID, joint4, q[3], sim.simx_opmode_oneshot)\n",
    "time.sleep(3)\n",
    "retCode = sim.simxSetJointTargetPosition(clientID, joint3, a3, sim.simx_opmode_oneshot)\n",
    "setEffector(1)\n",
    "time.sleep(1)\n",
    "retCode = sim.simxSetJointTargetPosition(clientID, joint3, a3+0.08, sim.simx_opmode_oneshot) # SUBO 8cm\n",
    "time.sleep(1)"
   ]
  },
  {
   "cell_type": "code",
   "execution_count": 762,
   "metadata": {},
   "outputs": [
    {
     "data": {
      "text/latex": [
       "$\\displaystyle \\left[\\begin{matrix}1.0 & 0 & 0 & 0.23\\\\0 & 1.0 & 0 & 0.18\\\\0 & 0 & 1.0 & 0.021\\\\0 & 0 & 0 & 1.0\\end{matrix}\\right]$"
      ],
      "text/plain": [
       "Matrix([\n",
       "[1.0,   0,   0,  0.23],\n",
       "[  0, 1.0,   0,  0.18],\n",
       "[  0,   0, 1.0, 0.021],\n",
       "[  0,   0,   0,   1.0]])"
      ]
     },
     "execution_count": 762,
     "metadata": {},
     "output_type": "execute_result"
    }
   ],
   "source": [
    "# Si quisiera colocar la pieza por ejemplo en el punto x,y,z=0.25,0,0.021\n",
    "x,y,z=0.23,0.18,0.021\n",
    "# Construimos la matriz destino con sus orientaciones y posiciones\n",
    "destino = sp.Matrix([[1, 0, 0,x],\n",
    "               [0, 1, 0, y], \n",
    "               [0, 0, 1,z], \n",
    "               [0, 0, 0, 1]])\n",
    "PuntoDestino = destino*matrixFromEuler(0, 0, 0) #Solo le paso la del Eje Z, para jugar al dominó puede ser 0 o 90º\n",
    "\n",
    "# Ajustamos la posición de cogida de la ventosa \n",
    "# IMPORTANTE: LA PIEZA NOS DA UNA POSICIÓN Z CENTRADA EN LA PIEZA DE UN CM--> PERO LA VENTOSA A DE COGERLA 1mm POR ENCIM\n",
    "PuntoDestino=N(PuntoDestino,5)\n",
    "PuntoDestino"
   ]
  },
  {
   "cell_type": "code",
   "execution_count": 763,
   "metadata": {},
   "outputs": [
    {
     "data": {
      "text/latex": [
       "$\\displaystyle \\left[\\begin{matrix}-0.088202\\\\1.5045\\\\0.0809\\\\1.4163\\end{matrix}\\right]$"
      ],
      "text/plain": [
       "Matrix([\n",
       "[-0.088202],\n",
       "[   1.5045],\n",
       "[   0.0809],\n",
       "[   1.4163]])"
      ]
     },
     "execution_count": 763,
     "metadata": {},
     "output_type": "execute_result"
    }
   ],
   "source": [
    "try:\n",
    "    q = nsolve(mbee-PuntoDestino, (theta1,theta2,d3,theta4),(1, 1, 1, 1), prec=5)\n",
    "except:\n",
    "    print('solution was not found, it is possible that there are infinite solutions')\n",
    "    q = [0, 0, 0, 0]\n",
    "q\n"
   ]
  },
  {
   "cell_type": "code",
   "execution_count": 764,
   "metadata": {},
   "outputs": [
    {
     "name": "stdout",
     "output_type": "stream",
     "text": [
      "Matrix([[-0.088202], [1.5045], [0.080900], [1.4163]])\n",
      "-5.05362114634479 86.2013635036531 -0.080900 81.1476500738636\n"
     ]
    }
   ],
   "source": [
    "# Grados de cada eje destino\n",
    "# Round the angle of each joint to the nearest multiple of 2*pi\n",
    "q[0]=q[0]-round(q[0]/(np.pi*2))*2*np.pi\n",
    "q[1]=q[1]-round(q[1]/(np.pi*2))*2*np.pi\n",
    "q[3]=q[3]-round(q[3]/(np.pi*2))*2*np.pi\n",
    "\n",
    "# Print the angles of each joint\n",
    "print(q)\n",
    "\n",
    "# Convert the angles to degrees and assign them to variables b1, b2, b3, and b4\n",
    "b1=q[0]*180/np.pi\n",
    "b2=q[1]*180/np.pi\n",
    "b3=-q[2]  # distancia destino: restará al prismático la distancia máxima\n",
    "b4=q[3]*180/np.pi\n",
    "\n",
    "# Print the angles in degrees\n",
    "print(b1,b2,b3,b4)"
   ]
  },
  {
   "cell_type": "code",
   "execution_count": 765,
   "metadata": {},
   "outputs": [
    {
     "data": {
      "text/latex": [
       "$\\displaystyle -57.0071036798888$"
      ],
      "text/plain": [
       "-57.0071036798888"
      ]
     },
     "execution_count": 765,
     "metadata": {},
     "output_type": "execute_result"
    }
   ],
   "source": [
    "#Correction needed of orientation:\n",
    "correccion=a1-b1+a2-b2+a4-orz\n",
    "correccion\n",
    "# Substraction between origin and destination angles"
   ]
  },
  {
   "cell_type": "code",
   "execution_count": 766,
   "metadata": {},
   "outputs": [],
   "source": [
    "\n",
    "retCode = sim.simxSetJointTargetPosition(clientID, joint1, q[0], sim.simx_opmode_oneshot)\n",
    "retCode = sim.simxSetJointTargetPosition(clientID, joint2, q[1], sim.simx_opmode_oneshot)\n",
    "time.sleep(2)\n",
    "retCode = sim.simxSetJointTargetPosition(clientID, joint4,(correccion)*np.pi/180, sim.simx_opmode_oneshot)\n",
    "time.sleep(2)\n",
    "retCode = sim.simxSetJointTargetPosition(clientID, joint3, a3+0.002, sim.simx_opmode_oneshot)\n",
    "time.sleep(1)\n",
    "setEffector(0)\n",
    "time.sleep(1)\n",
    "retCode = sim.simxSetJointTargetPosition(clientID, joint3, a3+0.08, sim.simx_opmode_oneshot)"
   ]
  }
 ],
 "metadata": {
  "kernelspec": {
   "display_name": "Python 3",
   "language": "python",
   "name": "python3"
  },
  "language_info": {
   "codemirror_mode": {
    "name": "ipython",
    "version": 3
   },
   "file_extension": ".py",
   "mimetype": "text/x-python",
   "name": "python",
   "nbconvert_exporter": "python",
   "pygments_lexer": "ipython3",
   "version": "3.8.5"
  }
 },
 "nbformat": 4,
 "nbformat_minor": 2
}
