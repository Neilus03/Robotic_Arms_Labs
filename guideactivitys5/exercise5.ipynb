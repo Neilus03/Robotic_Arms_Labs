{
 "cells": [
  {
   "cell_type": "code",
   "execution_count": 543,
   "metadata": {},
   "outputs": [],
   "source": [
    "# We import the necessary libraries\n",
    "import sim           # library to connect with CoppeliaSim\n",
    "import sympy as sp   # library for symbolic calculation\n",
    "import numpy as np\n",
    "from sympy import *\n",
    "from sympy.physics.vector import init_vprinting\n",
    "from sympy.physics.mechanics import dynamicsymbols\n",
    "from time import sleep\n"
   ]
  },
  {
   "cell_type": "code",
   "execution_count": 544,
   "metadata": {},
   "outputs": [],
   "source": [
    "init_vprinting(use_latex='mathjax', pretty_print=False)"
   ]
  },
  {
   "cell_type": "code",
   "execution_count": 545,
   "metadata": {},
   "outputs": [
    {
     "name": "stdout",
     "output_type": "stream",
     "text": [
      "conectado a 19999\n",
      "24 22 17 19 21 28 29 30\n"
     ]
    }
   ],
   "source": [
    "\n",
    "\n",
    "\n",
    "# We define the symbolic variables\n",
    "theta1, theta2, d3, lc, la, lb, theta, alpha, a, d = dynamicsymbols('theta1 theta2 d3 lc la lb theta alpha a d')\n",
    "theta1, theta2, d3, lc, la, lb, theta, alpha, a, d \n",
    "\n",
    "def connect(port):\n",
    "# returns the client number or -1 if it cannot connect\n",
    "    sim.simxFinish(-1) # just in case, close all opened connections\n",
    "    clientID=sim.simxStart('127.0.0.1',port,True,True,2000,5) # Connect\n",
    "    if clientID == 0: print(\"conectado a\", port)\n",
    "    else: print(\"no se pudo conectar\")\n",
    "    return clientID\n",
    "\n",
    "def setEffector(val):\n",
    "# function that triggers the end effector remotely\n",
    "# val is Int with value 0 or 1 to disable or activate the final actuator.\n",
    "    res,retInts,retFloats,retStrings,retBuffer=sim.simxCallScriptFunction(clientID,\n",
    "        \"suctionPad\", sim.sim_scripttype_childscript,\"setEffector\",[val],[],[],\"\", sim.simx_opmode_blocking)\n",
    "    return res\n",
    "\n",
    "# We require the handlers for the joints, the suction cup and the suction sensor (Allows to know if the object is nearby)\n",
    "clientID = connect(19999)\n",
    "\n",
    "retCode,tip=sim.simxGetObjectHandle(clientID,'suctionPadSensor',sim.simx_opmode_blocking)\n",
    "retCode,suction=sim.simxGetObjectHandle(clientID,'suctionPad',sim.simx_opmode_blocking)\n",
    "retCode,joint1=sim.simxGetObjectHandle(clientID,'Joint1',sim.simx_opmode_blocking)\n",
    "retCode,joint2=sim.simxGetObjectHandle(clientID,'Joint2',sim.simx_opmode_blocking)\n",
    "retCode,joint3=sim.simxGetObjectHandle(clientID,'Joint3',sim.simx_opmode_blocking)\n",
    "retCode, blue = sim.simxGetObjectHandle(clientID,'blue',sim.simx_opmode_blocking)\n",
    "retCode, red = sim.simxGetObjectHandle(clientID,'red',sim.simx_opmode_blocking)\n",
    "retCode, green = sim.simxGetObjectHandle(clientID,'green',sim.simx_opmode_blocking)\n",
    "print(tip, suction, joint1, joint2, joint3, blue, red, green)"
   ]
  },
  {
   "cell_type": "code",
   "execution_count": 546,
   "metadata": {},
   "outputs": [],
   "source": [
    "# We deactivate the final actuator (suction cup)\n",
    "setEffector(0)\n",
    "\n",
    "retCode,pos_red=sim.simxGetObjectPosition(clientID, red, -1, sim.simx_opmode_blocking)\n",
    "retCode,pos_green=sim.simxGetObjectPosition(clientID, green, -1, sim.simx_opmode_blocking)\n",
    "retCode,pos_blue=sim.simxGetObjectPosition(clientID, blue, -1, sim.simx_opmode_blocking)\n",
    "\n",
    "q = pos_green #posición Home and Collected Prism (Suction Cup Up)\n"
   ]
  },
  {
   "cell_type": "code",
   "execution_count": 547,
   "metadata": {},
   "outputs": [
    {
     "data": {
      "text/latex": [
       "$\\displaystyle \\left( 0.2 \\cos{\\left(\\theta_{1} + \\theta_{2} \\right)} + 0.2 \\cos{\\left(\\theta_{1} \\right)} - 0.299889743328094, \\  0.2 \\sin{\\left(\\theta_{1} + \\theta_{2} \\right)} + 0.2 \\sin{\\left(\\theta_{1} \\right)} - 0.0999878793954849, \\  0.0980000728666782 - d_{3}\\right)$"
      ],
      "text/plain": [
       "(0.2*cos(theta1 + theta2) + 0.2*cos(theta1) - 0.299889743328094, 0.2*sin(theta1 + theta2) + 0.2*sin(theta1) - 0.0999878793954849, 0.0980000728666782 - d3)"
      ]
     },
     "execution_count": 547,
     "metadata": {},
     "output_type": "execute_result"
    }
   ],
   "source": [
    "dest_suction_cup = pos_green\n",
    "x, y, z = dest_suction_cup\n",
    "\n",
    "# eq1 is the one that gives us the value of the position X (eq=f(x)-x=0)\n",
    "eq1 = 0.2 * cos(theta1) + 0.2 * cos(theta1 + theta2) - x\n",
    "\n",
    "\n",
    "# eq2 is the one that gives us the value of the position Y (eq=f(y)-y=0)\n",
    "eq2 = (0.2 * sin(theta1) + 0.2 * sin(theta1 + theta2)) - y\n",
    "\n",
    "\n",
    "# eq3 is the one that gives us the value of the position Z (eq=f(z)-z=0)   0.108 is the real height of manipulator\n",
    "eq3 = 0.108 - d3 - z\n",
    "\n",
    "\n",
    "\n",
    "eq1, eq2, eq3\n"
   ]
  },
  {
   "cell_type": "code",
   "execution_count": 548,
   "metadata": {},
   "outputs": [
    {
     "name": "stdout",
     "output_type": "stream",
     "text": [
      "Matrix([[-0.337676101185551], [1.31900115157393], [0.0980000728666782]])\n"
     ]
    }
   ],
   "source": [
    "q=nsolve((eq1,eq2,eq3),(theta1,theta2,d3),(q[0],q[1],q[2]))\n",
    "print(q)"
   ]
  },
  {
   "cell_type": "code",
   "execution_count": 549,
   "metadata": {},
   "outputs": [],
   "source": [
    "# We lower the suction cup to the object to be taken, without causing a collision (we place it aprox 1 mm above)\n",
    "\n",
    "retCode = sim.simxSetJointTargetPosition(clientID, joint1, q[0]+0.02, sim.simx_opmode_oneshot)\n",
    "retCode = sim.simxSetJointTargetPosition(clientID, joint2, q[1]+0.02, sim.simx_opmode_oneshot)\n",
    "retCode = sim.simxSetJointTargetPosition(clientID, joint3, -q[2]+0.01, sim.simx_opmode_oneshot)\n",
    "sleep(1)\n",
    "setEffector(1)\n",
    "sleep(1)\n",
    "retCode = sim.simxSetJointTargetPosition(clientID, joint1, q[0], sim.simx_opmode_oneshot)\n",
    "retCode = sim.simxSetJointTargetPosition(clientID, joint2, q[1], sim.simx_opmode_oneshot)\n",
    "retCode = sim.simxSetJointTargetPosition(clientID, joint3, q[2]+0.01, sim.simx_opmode_oneshot)"
   ]
  },
  {
   "cell_type": "code",
   "execution_count": 550,
   "metadata": {},
   "outputs": [],
   "source": [
    "q = pos_red #posición Home and Collected Prism (Suction Cup Up)"
   ]
  },
  {
   "cell_type": "code",
   "execution_count": 551,
   "metadata": {},
   "outputs": [
    {
     "data": {
      "text/latex": [
       "$\\displaystyle \\left( 0.2 \\cos{\\left(\\theta_{1} + \\theta_{2} \\right)} + 0.2 \\cos{\\left(\\theta_{1} \\right)} - 0.209859549999237, \\  0.2 \\sin{\\left(\\theta_{1} + \\theta_{2} \\right)} + 0.2 \\sin{\\left(\\theta_{1} \\right)} - 0.20998315513134, \\  0.0980000728666782 - d_{3}\\right)$"
      ],
      "text/plain": [
       "(0.2*cos(theta1 + theta2) + 0.2*cos(theta1) - 0.209859549999237, 0.2*sin(theta1 + theta2) + 0.2*sin(theta1) - 0.20998315513134, 0.0980000728666782 - d3)"
      ]
     },
     "execution_count": 551,
     "metadata": {},
     "output_type": "execute_result"
    }
   ],
   "source": [
    "dest_suction_cup = pos_red\n",
    "x, y, z = dest_suction_cup\n",
    "\n",
    "# eq1 is the one that gives us the value of the position X (eq=f(x)-x=0)\n",
    "eq1 = 0.2 * cos(theta1) + 0.2 * cos(theta1 + theta2) - x\n",
    "\n",
    "\n",
    "# eq2 is the one that gives us the value of the position Y (eq=f(y)-y=0)\n",
    "eq2 = (0.2 * sin(theta1) + 0.2 * sin(theta1 + theta2)) - y\n",
    "\n",
    "\n",
    "# eq3 is the one that gives us the value of the position Z (eq=f(z)-z=0)   0.108 is the real height of manipulator\n",
    "eq3 = 0.108 - d3 - z\n",
    "\n",
    "\n",
    "\n",
    "eq1, eq2, eq3\n"
   ]
  },
  {
   "cell_type": "code",
   "execution_count": 552,
   "metadata": {},
   "outputs": [
    {
     "name": "stdout",
     "output_type": "stream",
     "text": [
      "Matrix([[0.0512196341539983], [1.46894587485561], [0.0980000728666782]])\n"
     ]
    }
   ],
   "source": [
    "q=nsolve((eq1,eq2,eq3),(theta1,theta2,d3),(q[0],q[1],q[2]))\n",
    "print(q)"
   ]
  },
  {
   "cell_type": "code",
   "execution_count": 553,
   "metadata": {},
   "outputs": [],
   "source": [
    "# We lower the suction cup to the object to be taken, without causing a collision (we place it aprox 1 mm above)\n",
    "\n",
    "retCode = sim.simxSetJointTargetPosition(clientID, joint1, q[0]-0.02, sim.simx_opmode_oneshot)\n",
    "retCode = sim.simxSetJointTargetPosition(clientID, joint2, q[1]-0.02, sim.simx_opmode_oneshot)\n",
    "retCode = sim.simxSetJointTargetPosition(clientID, joint3, -q[2]+0.04, sim.simx_opmode_oneshot)\n"
   ]
  },
  {
   "cell_type": "code",
   "execution_count": 554,
   "metadata": {},
   "outputs": [
    {
     "data": {
      "text/latex": [
       "$\\displaystyle 0$"
      ],
      "text/plain": [
       "0"
      ]
     },
     "execution_count": 554,
     "metadata": {},
     "output_type": "execute_result"
    }
   ],
   "source": [
    "setEffector(0)\n"
   ]
  },
  {
   "cell_type": "code",
   "execution_count": 555,
   "metadata": {},
   "outputs": [],
   "source": [
    "\n",
    "retCode = sim.simxSetJointTargetPosition(clientID, joint1, q[0], sim.simx_opmode_oneshot)\n",
    "retCode = sim.simxSetJointTargetPosition(clientID, joint2, q[1], sim.simx_opmode_oneshot)\n",
    "retCode = sim.simxSetJointTargetPosition(clientID, joint3, q[2], sim.simx_opmode_oneshot)\n",
    "\n"
   ]
  },
  {
   "cell_type": "code",
   "execution_count": 556,
   "metadata": {},
   "outputs": [],
   "source": [
    "q = pos_blue #posición Home and Collected Prism (Suction Cup Up)"
   ]
  },
  {
   "cell_type": "code",
   "execution_count": 557,
   "metadata": {},
   "outputs": [
    {
     "data": {
      "text/latex": [
       "$\\displaystyle \\left( 0.2 \\cos{\\left(\\theta_{1} + \\theta_{2} \\right)} + 0.2 \\cos{\\left(\\theta_{1} \\right)} - 0.219182595610619, \\  0.2 \\sin{\\left(\\theta_{1} + \\theta_{2} \\right)} + 0.2 \\sin{\\left(\\theta_{1} \\right)} - 0.0999118462204933, \\  0.0980000728666782 - d_{3}\\right)$"
      ],
      "text/plain": [
       "(0.2*cos(theta1 + theta2) + 0.2*cos(theta1) - 0.219182595610619, 0.2*sin(theta1 + theta2) + 0.2*sin(theta1) - 0.0999118462204933, 0.0980000728666782 - d3)"
      ]
     },
     "execution_count": 557,
     "metadata": {},
     "output_type": "execute_result"
    }
   ],
   "source": [
    "dest_suction_cup = pos_blue\n",
    "x, y, z = dest_suction_cup\n",
    "\n",
    "# eq1 is the one that gives us the value of the position X (eq=f(x)-x=0)\n",
    "eq1 = 0.2 * cos(theta1) + 0.2 * cos(theta1 + theta2) - x\n",
    "\n",
    "\n",
    "# eq2 is the one that gives us the value of the position Y (eq=f(y)-y=0)\n",
    "eq2 = (0.2 * sin(theta1) + 0.2 * sin(theta1 + theta2)) - y\n",
    "\n",
    "\n",
    "# eq3 is the one that gives us the value of the position Z (eq=f(z)-z=0)   0.108 is the real height of manipulator\n",
    "eq3 = 0.108 - d3 - z\n",
    "\n",
    "\n",
    "\n",
    "eq1, eq2, eq3\n"
   ]
  },
  {
   "cell_type": "code",
   "execution_count": 558,
   "metadata": {},
   "outputs": [
    {
     "name": "stdout",
     "output_type": "stream",
     "text": [
      "Matrix([[-0.496842457989044], [1.84908197856399], [0.0980000728666782]])\n"
     ]
    }
   ],
   "source": [
    "q=nsolve((eq1,eq2,eq3),(theta1,theta2,d3),(q[0],q[1],q[2]))\n",
    "print(q)"
   ]
  },
  {
   "cell_type": "code",
   "execution_count": 559,
   "metadata": {},
   "outputs": [
    {
     "data": {
      "text/latex": [
       "$\\displaystyle 0$"
      ],
      "text/plain": [
       "0"
      ]
     },
     "execution_count": 559,
     "metadata": {},
     "output_type": "execute_result"
    }
   ],
   "source": [
    "# We lower the suction cup to the object to be taken, without causing a collision (we place it aprox 1 mm above)\n",
    "\n",
    "retCode = sim.simxSetJointTargetPosition(clientID, joint1, q[0]-0.02, sim.simx_opmode_oneshot)\n",
    "retCode = sim.simxSetJointTargetPosition(clientID, joint2, q[1]-0.02, sim.simx_opmode_oneshot)\n",
    "retCode = sim.simxSetJointTargetPosition(clientID, joint3, -q[2]+0.01, sim.simx_opmode_oneshot)\n",
    "setEffector(1)\n"
   ]
  },
  {
   "cell_type": "code",
   "execution_count": 560,
   "metadata": {},
   "outputs": [],
   "source": [
    "setEffector(1)\n",
    "\n",
    "retCode = sim.simxSetJointTargetPosition(clientID, joint1, q[0], sim.simx_opmode_oneshot)\n",
    "retCode = sim.simxSetJointTargetPosition(clientID, joint2, q[1], sim.simx_opmode_oneshot)\n",
    "retCode = sim.simxSetJointTargetPosition(clientID, joint3, q[2], sim.simx_opmode_oneshot)\n",
    "\n"
   ]
  },
  {
   "cell_type": "code",
   "execution_count": 561,
   "metadata": {},
   "outputs": [],
   "source": [
    "retCode,pos_green=sim.simxGetObjectPosition(clientID, green, -1, sim.simx_opmode_blocking)"
   ]
  },
  {
   "cell_type": "code",
   "execution_count": 562,
   "metadata": {},
   "outputs": [],
   "source": [
    "q = pos_green #posición Home and Collected Prism (Suction Cup Up)\n"
   ]
  },
  {
   "cell_type": "code",
   "execution_count": 563,
   "metadata": {},
   "outputs": [
    {
     "data": {
      "text/latex": [
       "$\\displaystyle \\left( 0.2 \\cos{\\left(\\theta_{1} + \\theta_{2} \\right)} + 0.2 \\cos{\\left(\\theta_{1} \\right)} - 0.197858601808548, \\  0.2 \\sin{\\left(\\theta_{1} + \\theta_{2} \\right)} + 0.2 \\sin{\\left(\\theta_{1} \\right)} - 0.214632734656334, \\  0.0780000733137131 - d_{3}\\right)$"
      ],
      "text/plain": [
       "(0.2*cos(theta1 + theta2) + 0.2*cos(theta1) - 0.197858601808548, 0.2*sin(theta1 + theta2) + 0.2*sin(theta1) - 0.214632734656334, 0.0780000733137131 - d3)"
      ]
     },
     "execution_count": 563,
     "metadata": {},
     "output_type": "execute_result"
    }
   ],
   "source": [
    "dest_suction_cup = pos_green\n",
    "x, y, z = dest_suction_cup\n",
    "\n",
    "# eq1 is the one that gives us the value of the position X (eq=f(x)-x=0)\n",
    "eq1 = 0.2 * cos(theta1) + 0.2 * cos(theta1 + theta2) - x\n",
    "\n",
    "\n",
    "# eq2 is the one that gives us the value of the position Y (eq=f(y)-y=0)\n",
    "eq2 = (0.2 * sin(theta1) + 0.2 * sin(theta1 + theta2)) - y\n",
    "\n",
    "\n",
    "# eq3 is the one that gives us the value of the position Z (eq=f(z)-z=0)   0.108 is the real height of manipulator\n",
    "eq3 = 0.108 - d3 - z\n",
    "\n",
    "\n",
    "\n",
    "eq1, eq2, eq3\n"
   ]
  },
  {
   "cell_type": "code",
   "execution_count": 564,
   "metadata": {},
   "outputs": [
    {
     "name": "stdout",
     "output_type": "stream",
     "text": [
      "Matrix([[0.0732613882538821], [1.50555960020247], [0.0780000733137131]])\n"
     ]
    }
   ],
   "source": [
    "q=nsolve((eq1,eq2,eq3),(theta1,theta2,d3),(q[0],q[1],q[2]))\n",
    "print(q)"
   ]
  },
  {
   "cell_type": "code",
   "execution_count": 565,
   "metadata": {},
   "outputs": [],
   "source": [
    "# We lower the suction cup to the object to be taken, without causing a collision (we place it aprox 1 mm above)\n",
    "\n",
    "retCode = sim.simxSetJointTargetPosition(clientID, joint1, q[0], sim.simx_opmode_oneshot)\n",
    "retCode = sim.simxSetJointTargetPosition(clientID, joint2, q[1], sim.simx_opmode_oneshot)\n",
    "retCode = sim.simxSetJointTargetPosition(clientID, joint3, -q[2]+0.06, sim.simx_opmode_oneshot)\n",
    "sleep(1)\n",
    "setEffector(0)\n",
    "retCode = sim.simxSetJointTargetPosition(clientID, joint1, q[0]-1, sim.simx_opmode_oneshot)\n",
    "retCode = sim.simxSetJointTargetPosition(clientID, joint2, q[1]-1, sim.simx_opmode_oneshot)\n",
    "retCode = sim.simxSetJointTargetPosition(clientID, joint3, q[2], sim.simx_opmode_oneshot)\n",
    "\n",
    "\n"
   ]
  }
 ],
 "metadata": {
  "kernelspec": {
   "display_name": "pytorch-env",
   "language": "python",
   "name": "python3"
  },
  "language_info": {
   "codemirror_mode": {
    "name": "ipython",
    "version": 3
   },
   "file_extension": ".py",
   "mimetype": "text/x-python",
   "name": "python",
   "nbconvert_exporter": "python",
   "pygments_lexer": "ipython3",
   "version": "3.9.18"
  }
 },
 "nbformat": 4,
 "nbformat_minor": 2
}
